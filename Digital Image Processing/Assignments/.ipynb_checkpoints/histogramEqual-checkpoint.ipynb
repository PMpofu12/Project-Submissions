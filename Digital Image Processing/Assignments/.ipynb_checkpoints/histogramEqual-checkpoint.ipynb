{
 "cells": [
  {
   "cell_type": "code",
   "execution_count": 3,
   "metadata": {},
   "outputs": [],
   "source": [
    "import numpy as np\n",
    "import matplotlib.pyplot as plt\n",
    "from skimage import io\n",
    "from skimage import data\n",
    "import math\n",
    "import cv2\n",
    "\n",
    "from IPython.display import display, Math, Latex\n",
    "\n",
    "import numpy as np\n",
    "import matplotlib.pyplot as plt\n",
    "from PIL import Image"
   ]
  },
  {
   "cell_type": "code",
   "execution_count": 9,
   "metadata": {},
   "outputs": [
    {
     "data": {
      "text/plain": [
       "(array([1.57791e+05, 4.60260e+04, 4.38160e+04, 3.91910e+04, 2.53240e+04,\n",
       "        1.51930e+04, 8.75100e+03, 4.84000e+03, 2.91400e+03, 1.94500e+03,\n",
       "        1.83200e+03, 1.34000e+03, 1.28100e+03, 1.21400e+03, 1.15600e+03,\n",
       "        9.51000e+02, 6.32000e+02, 5.41000e+02, 4.26000e+02, 4.17000e+02,\n",
       "        3.66000e+02, 2.53000e+02, 2.14000e+02, 1.78000e+02, 1.48000e+02,\n",
       "        1.45000e+02, 1.25000e+02, 1.10000e+02, 1.01000e+02, 1.06000e+02,\n",
       "        1.27000e+02, 1.01000e+02, 1.05000e+02, 1.11000e+02, 1.48000e+02,\n",
       "        1.40000e+02, 1.28000e+02, 1.15000e+02, 1.03000e+02, 8.40000e+01,\n",
       "        7.90000e+01, 6.90000e+01, 7.00000e+01, 6.60000e+01, 7.00000e+01,\n",
       "        8.00000e+01, 1.12000e+02, 1.56000e+02, 2.18000e+02, 5.91000e+02]),\n",
       " array([  0. ,   5.1,  10.2,  15.3,  20.4,  25.5,  30.6,  35.7,  40.8,\n",
       "         45.9,  51. ,  56.1,  61.2,  66.3,  71.4,  76.5,  81.6,  86.7,\n",
       "         91.8,  96.9, 102. , 107.1, 112.2, 117.3, 122.4, 127.5, 132.6,\n",
       "        137.7, 142.8, 147.9, 153. , 158.1, 163.2, 168.3, 173.4, 178.5,\n",
       "        183.6, 188.7, 193.8, 198.9, 204. , 209.1, 214.2, 219.3, 224.4,\n",
       "        229.5, 234.6, 239.7, 244.8, 249.9, 255. ]),\n",
       " <a list of 50 Patch objects>)"
      ]
     },
     "execution_count": 9,
     "metadata": {},
     "output_type": "execute_result"
    },
    {
     "data": {
      "image/png": "[encoded data removed]",
      "text/plain": [
       "<Figure size 432x288 with 1 Axes>"
      ]
     },
     "metadata": {
      "needs_background": "light"
     },
     "output_type": "display_data"
    }
   ],
   "source": [
    "# For image 1\n",
    "# Read in the image,and get its histogram representation \n",
    "\n",
    "img_1 = io.imread('imgs/road_low_1.jpg')\n",
    "# io.imshow(img_1, cmap=plt.cm.gray)\n",
    "# plt.show()\n",
    "\n",
    "\n",
    "\n",
    "#flat = img_1.flatten() # put pixels in a 1D array by flattening out img array\n",
    "\n",
    "plt.hist(img_1, bins=50) # show the histogram"
   ]
  },
  {
   "cell_type": "code",
   "execution_count": null,
   "metadata": {},
   "outputs": [],
   "source": []
  }
 ],
 "metadata": {
  "kernelspec": {
   "display_name": "Python 3",
   "language": "python",
   "name": "python3"
  },
  "language_info": {
   "codemirror_mode": {
    "name": "ipython",
    "version": 3
   },
   "file_extension": ".py",
   "mimetype": "text/x-python",
   "name": "python",
   "nbconvert_exporter": "python",
   "pygments_lexer": "ipython3",
   "version": "3.7.4"
  }
 },
 "nbformat": 4,
 "nbformat_minor": 2
}
