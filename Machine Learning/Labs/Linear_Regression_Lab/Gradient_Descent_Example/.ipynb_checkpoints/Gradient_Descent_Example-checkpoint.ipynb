{
 "cells": [
  {
   "cell_type": "markdown",
   "metadata": {},
   "source": [
    "# Linear Regression with Gradient Descent."
   ]
  },
  {
   "cell_type": "code",
   "execution_count": 1,
   "metadata": {
    "collapsed": true
   },
   "outputs": [],
   "source": [
    "import numpy as np\n",
    "import matplotlib.pyplot as plt"
   ]
  },
  {
   "cell_type": "markdown",
   "metadata": {},
   "source": [
    "### Read in Data"
   ]
  },
  {
   "cell_type": "markdown",
   "metadata": {},
   "source": [
    "For this example we will be using the data found in the file \"data.txt\". We read this data in, in the cell below. The file contains $300$ comma-separated values on a single line. This corresponds to $150$ data points of ($x$,$y$) values. For example the first two values in the file are $16.2193284885$ and $102.77603504$, showing the first data point where $x=16.2193284885$ and its corresponding $y=102.77603504$."
   ]
  },
  {
   "cell_type": "code",
   "execution_count": 2,
   "metadata": {
    "collapsed": false
   },
   "outputs": [],
   "source": [
    "data_file = open('data.txt','r') # open the file containing the data\n",
    "data_string = data_file.read() # read in the contents of the file as a string\n",
    "data_string_split = data_string.split(',')[:-1] # split the string by the commas (drop the last index after the split as this is an empty space)\n",
    "data = np.array(data_string_split) # Turn the data_string_split list into a numpy array\n",
    "data = data.astype(np.float64) # Turn the string values of numbers in the array into floating point numbers\n",
    "data = data.reshape(150,2) # reshape the array so that column 0 contains x values and column 1 contains y values\n",
    "x_values = data[:,0] # create array of x values from column 0 of data\n",
    "y = data[:,1] # create array of y values from column 1 of data"
   ]
  },
  {
   "cell_type": "markdown",
   "metadata": {},
   "source": [
    "Now that we have read in our data we can plot it so that we can see what we are working with."
   ]
  },
  {
   "cell_type": "code",
   "execution_count": 3,
   "metadata": {
    "collapsed": false
   },
   "outputs": [
    {
     "data": {
      "image/png": "[encoded data removed]",
      "text/plain": [
       "<Figure size 432x288 with 1 Axes>"
      ]
     },
     "metadata": {},
     "output_type": "display_data"
    }
   ],
   "source": [
    "plt.axhline(0,color='black') # plot horizontal axis at 0\n",
    "plt.axvline(0,color='black') # plot vertical axis at 0\n",
    "plt.scatter(x_values,y, color='blue') # create a scatter plot of data points\n",
    "plt.xlabel('x-values') # label horizontal axis\n",
    "plt.ylabel('y-values') # label vertical axis\n",
    "plt.show() # show the plot"
   ]
  },
  {
   "cell_type": "markdown",
   "metadata": {},
   "source": [
    "### Linear Regression with Gradient Descent"
   ]
  },
  {
   "cell_type": "markdown",
   "metadata": {},
   "source": [
    "Lets now fit this data with a linear regression. The data above looks parabolic so we will use the features [$1$, $x$, $x^2$] to fit the data. To make the code easier to follow we will use the notation from the lecture slides for our variable and function names as much as possible.\n",
    "\n",
    "Firstly we need a function for our regression. As shown in the lecture a linear regression is defined as:\n",
    "$f(x^{(i)}, \\theta) = \\Sigma_{j=0}^d \\theta_j x_j^{(i)}$ where $x^{(i)}$ is the x values of the i-th data point, $\\theta$ are the parameters of our regression, and $x_j$ reflects the value of the j-th feature of a data point. So $x_0$ (where $j=0$) is $1$, $x_1$ is $x$ and $x_2$ is $x^2$ because we chose the features [$1$, $x$, $x^2$]. $\\theta_j$ is the parameter corresponding to the j-th feature. Thus our regression can be written as: $f(x^{(i)}, \\theta) = \\theta_0 x_0^{(i)} + \\theta_1 x_1^{(i)} + \\theta_2 x_2^{(i)}$. This can also we written as the dot product between the $x$ and $\\theta$ vectors: $f(x^{(i)}, \\theta) = [x_0, x_1, x_2]^{(i)} \\cdot [\\theta_0, \\theta_1, \\theta_2]^T$ where the post-script $T$ reflects the transpose a vector. So we need each data point as a row vector and the parameters as a column vector. This regression function is defined first in the code block below."
   ]
  },
  {
   "cell_type": "code",
   "execution_count": 4,
   "metadata": {
    "collapsed": true
   },
   "outputs": [],
   "source": [
    "def f(x, θ): # Regression function\n",
    "    return np.dot(x, θ) # linear regression using the dot product"
   ]
  },
  {
   "cell_type": "markdown",
   "metadata": {},
   "source": [
    "Now that we have a way of calculating our regression we can learn the parameters for the regression. We begin by creating our design matrix from the x values we have. Since we want to use the fetaures $[1,x,x^2]$ our design matrix will have $3$ columns where column $0$ contains only the value $1$, column $1$ contains $x$ values and column $2$ contains $x^2$ values. Thus our design matrix will have $150$ rows (one for each data point) and $3$ columns. We use $X$ to denote this matrix (to fit the notation in the slides).\n",
    "\n",
    "We then have to use the data to update our model parameters. The update rule for linear regression is $\\theta_j \\leftarrow \\theta_j - \\alpha(f(x^{(i)}, \\theta) - y^{(i)})x_j^{(i)}$. So we initialize our parameters $\\theta$ then update our parameters until the parameters converge. We determine that the parameters have converted when they no longer change significantly after an iteration of updates. In other words when $ || \\theta_{new} - \\theta_{old} ||_2 = \\sqrt{\\Sigma_{j=0}^d (\\theta_{j_{new}} - \\theta_{j_{old}})^2} < \\epsilon $ (remember this is the euclidean norm and measures distance for vectors)."
   ]
  },
  {
   "cell_type": "code",
   "execution_count": 5,
   "metadata": {
    "collapsed": false
   },
   "outputs": [
    {
     "name": "stdout",
     "output_type": "stream",
     "text": [
      "Model Parameters:  [ 0.99737785  0.98212731  0.36402476]\n"
     ]
    }
   ],
   "source": [
    "x_values = x_values[np.newaxis].T # turn our array of x values into a column vector\n",
    "X = np.hstack([np.ones(x_values.shape[0])[np.newaxis].T, x_values, x_values**2]) # create the design matrix\n",
    "α = 1e-7 # define our learning rate\n",
    "θ = np.ones(X.shape[1]) # initialize our parameters\n",
    "θ_old = np.zeros(X.shape[1]) # initialize the old parameter values (must be different from the parameter values so we enter the while loop below)\n",
    "while np.sqrt(np.sum(np.power(θ - θ_old, 2))) > 0.01: # while euclidean norm > 0.1 (so ϵ = 0.1) \n",
    "    θ_old = θ # set old parameter values to parameter values before they are updated\n",
    "    for i in range(X.shape[0]): # loop over each row of the design matrix (each data point)\n",
    "        θ = θ - α*( (f(X[i], θ) - y[i]) * X[i] ) # update the parameters using the update rule\n",
    "print(\"Model Parameters: \", θ) # Print model parameters after convergence"
   ]
  },
  {
   "cell_type": "markdown",
   "metadata": {},
   "source": [
    "Now that we have trained our model we can plot the regression function."
   ]
  },
  {
   "cell_type": "code",
   "execution_count": 6,
   "metadata": {
    "collapsed": false
   },
   "outputs": [
    {
     "data": {
      "image/png": "[encoded data removed]",
      "text/plain": [
       "<Figure size 432x288 with 1 Axes>"
      ]
     },
     "metadata": {},
     "output_type": "display_data"
    }
   ],
   "source": [
    "model_predictions = f(X, θ) # for each data point obtain the predicted y value\n",
    "plot_order = X[:,1].argsort() # this just determines the order data points need to be plotted in (don't worry too much)\n",
    "plt.axhline(0,color='black') # plot horizontal axis at 0\n",
    "plt.axvline(0,color='black') # plot vertical axis at 0\n",
    "plt.scatter(x_values,y, color='blue') # create a scatter plot of the actual data points\n",
    "plt.plot(x_values[plot_order],model_predictions[plot_order], color='red') # plot the regression function's predicted value for each data point and connect it with a line\n",
    "plt.show() # show the plot"
   ]
  },
  {
   "cell_type": "code",
   "execution_count": null,
   "metadata": {
    "collapsed": true
   },
   "outputs": [],
   "source": []
  }
 ],
 "metadata": {
  "kernelspec": {
   "display_name": "Python 3",
   "language": "python",
   "name": "python3"
  },
  "language_info": {
   "codemirror_mode": {
    "name": "ipython",
    "version": 3
   },
   "file_extension": ".py",
   "mimetype": "text/x-python",
   "name": "python",
   "nbconvert_exporter": "python",
   "pygments_lexer": "ipython3",
   "version": "3.6.8"
  }
 },
 "nbformat": 4,
 "nbformat_minor": 2
}
