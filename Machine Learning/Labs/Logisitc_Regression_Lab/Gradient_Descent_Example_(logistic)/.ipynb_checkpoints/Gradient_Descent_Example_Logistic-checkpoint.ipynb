{
 "cells": [
  {
   "cell_type": "markdown",
   "metadata": {},
   "source": [
    "# Logistic Regression with Gradient Descent."
   ]
  },
  {
   "cell_type": "code",
   "execution_count": 1,
   "metadata": {
    "collapsed": true
   },
   "outputs": [],
   "source": [
    "import numpy as np\n",
    "import matplotlib.pyplot as plt"
   ]
  },
  {
   "cell_type": "markdown",
   "metadata": {},
   "source": [
    "### Read in Data"
   ]
  },
  {
   "cell_type": "markdown",
   "metadata": {},
   "source": [
    "For this example we will be using the data found in the file \"data.txt\". We read this data in, in the cell below. The file contains $120$ comma-separated values on a single line. This corresponds to $60$ data points of ($x$,$y$) values. For example the first two values in the file are $-0.462708520053$ and $0.0$, showing the first data point where $x=-0.462708520053$ and its corresponding $y=0.0$."
   ]
  },
  {
   "cell_type": "code",
   "execution_count": 2,
   "metadata": {
    "collapsed": false
   },
   "outputs": [],
   "source": [
    "data_file = open('data.txt','r') # open the file containing the data\n",
    "data_string = data_file.read() # read in the contents of the file as a string\n",
    "data_string_split = data_string.split(',')[:-1] # split the string by the commas (drop the last index after the split as this is an empty space)\n",
    "data = np.array(data_string_split) # Turn the data_string_split list into a numpy array\n",
    "data = data.astype(np.float64) # Turn the string values of numbers in the array into floating point numbers\n",
    "data = data.reshape(60,2) # reshape the array so that column 0 contains x values and column 1 contains y values\n",
    "x_values = data[:,0] # create array of x values from column 0 of data\n",
    "y = data[:,1] # create array of y values from column 1 of data"
   ]
  },
  {
   "cell_type": "markdown",
   "metadata": {},
   "source": [
    "Now that we have read in our data we can plot it so that we can see what we are working with."
   ]
  },
  {
   "cell_type": "code",
   "execution_count": 3,
   "metadata": {
    "collapsed": false
   },
   "outputs": [
    {
     "data": {
      "image/png": "[encoded data removed]",
      "text/plain": [
       "<Figure size 432x288 with 1 Axes>"
      ]
     },
     "metadata": {},
     "output_type": "display_data"
    }
   ],
   "source": [
    "plt.axhline(0,color='black') # plot horizontal axis at 0\n",
    "plt.axvline(0,color='black') # plot vertical axis at 0\n",
    "plt.scatter(x_values,y, color='blue') # create a scatter plot of data points\n",
    "plt.xlabel('x-values') # label horizontal axis\n",
    "plt.ylabel('y-values') # label vertical axis\n",
    "plt.show() # show the plot"
   ]
  },
  {
   "cell_type": "markdown",
   "metadata": {},
   "source": [
    "### Logistic Regression with Gradient Descent"
   ]
  },
  {
   "cell_type": "markdown",
   "metadata": {},
   "source": [
    "Lets now fit this data with a logistic regression. The data above looks separable using just the x-values, and so we will use the features $[1,x]$ to fit this data. To make the code easier to follow we will use the notation from the lecture slides for our variable and function names as much as possible.\n",
    "\n",
    "Firstly we need a function for our regression. As shown in the lecture a logistic regression is defined as:\n",
    "\n",
    "$ \\large h(x^{(i)}, \\theta) = \\frac{1}{1 + \\exp(-\\Sigma_{j=0}^d \\theta_j x_j^{(i)})}$ where $\\exp(x)$ is the exponential function, $\\exp(x) = e^x$.\n",
    "\n",
    "In the above definition $x^{(i)}$ is the x values of the i-th data point, $\\theta$ are the parameters of our regression, and $x_j$ reflects the value of the j-th feature of a data point. So $x_0$ (where $j=0$) is $1$ and $x_1$ is $x$ because we chose the features [$1$, $x$]. $\\theta_j$ is the parameter corresponding to the j-th feature. Thus our regression can be written as: $h(x^{(i)}, \\theta) = \\frac{1}{1 + \\exp(-\\theta_0 x_0^{(i)} - \\theta_1 x_1^{(i)})}$. This can also we written using the dot product between the $x$ and $\\theta$ vectors:\n",
    "\n",
    "$\\large h(x^{(i)}, \\theta) = \\frac{1}{1 + \\exp(-[x_0, x_1]^{(i)} \\cdot [\\theta_0, \\theta_1]^T)}$ \n",
    "\n",
    "where the post-script $T$ reflects the transpose a vector. So we need each data point as a row vector and the parameters as a column vector. This regression function is defined first in the code block below."
   ]
  },
  {
   "cell_type": "code",
   "execution_count": 4,
   "metadata": {
    "collapsed": false
   },
   "outputs": [],
   "source": [
    "def h(x, θ): # Regression function\n",
    "    return 1/(1+np.exp(-np.dot(x, θ))) # logistic regression using the dot product"
   ]
  },
  {
   "cell_type": "markdown",
   "metadata": {},
   "source": [
    "Now that we have a way of calculating our regression we can learn the parameters for the regression. We begin by creating our design matrix from the x values we have. Since we want to use the fetaures $[1,x]$ our design matrix will have $2$ columns where column $0$ contains only the value $1$ and column $1$ contains the $x$ values. Thus our design matrix will have $60$ rows (one for each data point) and $2$ columns. We use $X$ to denote this matrix (to fit the notation in the slides).\n",
    "\n",
    "We then have to use the data to update our model parameters. The update rule for logistic regression is $\\theta_j \\leftarrow \\theta_j - \\alpha(h(x^{(i)}, \\theta) - y^{(i)})x_j^{(i)}$. So we initialize our parameters $\\theta$ then update our parameters until the parameters converge. We determine that the parameters have converted when they no longer change significantly after an iteration of updates. In other words when $ || \\theta_{new} - \\theta_{old} ||_2 = \\sqrt{\\Sigma_{j=0}^d (\\theta_{j_{new}} - \\theta_{j_{old}})^2} < \\epsilon $ (remember this is the euclidean norm and measures distance for vectors)."
   ]
  },
  {
   "cell_type": "code",
   "execution_count": 5,
   "metadata": {
    "collapsed": false
   },
   "outputs": [
    {
     "name": "stdout",
     "output_type": "stream",
     "text": [
      "Model Parameters:  [-1.64681557  0.63602064]\n"
     ]
    }
   ],
   "source": [
    "x_values = x_values[np.newaxis].T # turn our array of x values into a column vector\n",
    "X = np.hstack([np.ones(x_values.shape[0])[np.newaxis].T, x_values]) # create the design matrix\n",
    "α = 1e-4 # define our learning rate\n",
    "θ = np.ones(X.shape[1]) # initialize our parameters\n",
    "θ_old = np.zeros(X.shape[1]) # initialize the old parameter values (must be different from the parameter values so we enter the while loop below)\n",
    "while np.sqrt(np.sum(np.power(θ - θ_old, 2))) > 0.0005: # while euclidean norm > 0.0005 (so ϵ = 0.0005) \n",
    "    θ_old = θ # set old parameter values to parameter values before they are updated\n",
    "    for i in range(X.shape[0]): # loop over each row of the design matrix (each data point)\n",
    "        θ = θ - α*( (h(X[i], θ) - y[i]) * X[i] ) # update the parameters using the update rule\n",
    "print(\"Model Parameters: \", θ) # Print model parameters after convergence"
   ]
  },
  {
   "cell_type": "markdown",
   "metadata": {},
   "source": [
    "Now that we have trained our model we can plot the regression function. First we determine which category the model predicts for each data point so we can plot these categories in different colours (one category in blue and the other in red). All blue data points should have a y-value of $0$ and all red data points should have a y-value of $1$ if the regression has been successful at splitting the data. We then plot the regression function over the range of x-values (-3,15). Note how the y-value range is (0,1). Lastly we plot a vertical line where the regression function has a y-value$=0.5$, as this is the line which should separate the data. All points left of the line will be in the blue category and all points right of the line will be in the red category."
   ]
  },
  {
   "cell_type": "code",
   "execution_count": 6,
   "metadata": {
    "collapsed": false
   },
   "outputs": [
    {
     "data": {
      "image/png": "[encoded data removed]",
      "text/plain": [
       "<Figure size 432x288 with 1 Axes>"
      ]
     },
     "metadata": {},
     "output_type": "display_data"
    }
   ],
   "source": [
    "model_predictions = h(X, θ) # for each data point obtain the predicted y value\n",
    "category1 = np.where(model_predictions < 0.5) # data point with a predicted y value are in class 1\n",
    "category2 = np.where(model_predictions >= 0.5) # data point with a predicted y value are in class 2\n",
    "\n",
    "range_of_x = np.arange(-3,15,0.1)[np.newaxis].T # Create an array of x values from -3 to 15 so we can plot our logistic regression\n",
    "range_of_x_design_matrix = np.hstack([np.ones(range_of_x.shape), range_of_x]) # Create a design matrix so we can plot the logistic regression\n",
    "logistic_function = h(range_of_x_design_matrix, θ) # for each x in (-3,15) obtain a y-value\n",
    "dividing_line = np.where(np.abs(logistic_function-0.5) <= 0.01) # find x value where logistic regression = 0.5 (indifferent about the classes, separating line between classes)\n",
    "plt.axvline(range_of_x[dividing_line[0]],color='purple',label=\"dividing line between classes\") # Draw the line separating the classes\n",
    "plt.axhline(0,color='black') # plot horizontal axis at 0\n",
    "plt.axvline(0,color='black') # plot vertical axis at 0\n",
    "plt.scatter(x_values[category1],y[category1], color='blue') # create a scatter plot of the actual data points in class 1, coloured in blue\n",
    "plt.scatter(x_values[category2],y[category2], color='red') # create a scatter plot of the actual data points in class 2, coloured in red\n",
    "plt.plot(range_of_x,logistic_function, color='green', label=\"logistic regression\") # plot the regression function's predicted value for each x value in (-3,15)\n",
    "plt.legend(loc=\"right\") # Add the legend to the plot\n",
    "plt.show() # show the plot"
   ]
  },
  {
   "cell_type": "code",
   "execution_count": null,
   "metadata": {
    "collapsed": true
   },
   "outputs": [],
   "source": []
  }
 ],
 "metadata": {
  "kernelspec": {
   "display_name": "Python 3",
   "language": "python",
   "name": "python3"
  },
  "language_info": {
   "codemirror_mode": {
    "name": "ipython",
    "version": 3
   },
   "file_extension": ".py",
   "mimetype": "text/x-python",
   "name": "python",
   "nbconvert_exporter": "python",
   "pygments_lexer": "ipython3",
   "version": "3.6.8"
  }
 },
 "nbformat": 4,
 "nbformat_minor": 2
}
