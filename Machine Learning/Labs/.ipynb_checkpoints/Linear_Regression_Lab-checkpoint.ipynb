{
 "cells": [
  {
   "cell_type": "code",
   "execution_count": 921,
   "metadata": {},
   "outputs": [],
   "source": [
    "import numpy as np\n",
    "import pandas as pd            \n",
    "import matplotlib.pyplot as plt\n",
    "import math"
   ]
  },
  {
   "cell_type": "code",
   "execution_count": 922,
   "metadata": {},
   "outputs": [],
   "source": [
    "# 4(a) i. Sample 150 x-values from a Normal distribution using a mean of 0 and standard deviation of 10.\n",
    "#      ii. From the x-values construct a design matrix using the features {1,x,x2}.\n",
    "xValues = np.random.normal(0, 10, 150)\n",
    "ones = np.ones(150)\n",
    "ninety = np.empty(90)\n",
    "x = np.empty(150)\n",
    "xSquare = np.empty(150)\n",
    "xCube = np.empty(150)\n",
    "\n",
    "for i in range(150):\n",
    "    x[i] = xValues[i]\n",
    "    xSquare[i] = xValues[i]**2\n",
    "    xCube[i] = xValues[i]**3\n",
    "#xCube.sort()\n",
    "data = pd.DataFrame(ones)\n",
    "data.columns = ['1']\n",
    "data['x'] = x\n",
    "data['x^2'] = xSquare\n",
    "#print(data)"
   ]
  },
  {
   "cell_type": "code",
   "execution_count": 923,
   "metadata": {},
   "outputs": [
    {
     "name": "stdout",
     "output_type": "stream",
     "text": [
      "True values for theta = [0.12377689 0.43219456 0.96234104]\n",
      "       1          x         x^2           y\n",
      "0    1.0  13.096367  171.514826  157.506199\n",
      "1    1.0   0.376955    0.142095   -8.624235\n",
      "2    1.0  18.468882  341.099601  341.150437\n",
      "3    1.0   7.861336   61.800600   62.513669\n",
      "4    1.0  -4.540340   20.614684   21.989622\n",
      "..   ...        ...         ...         ...\n",
      "145  1.0  10.242153  104.901700   96.195818\n",
      "146  1.0  -8.278205   68.528683   64.770897\n",
      "147  1.0  14.260589  203.364388  204.009517\n",
      "148  1.0  -6.135725   37.647125   37.106668\n",
      "149  1.0  17.133285  293.549453  293.363142\n",
      "\n",
      "[150 rows x 4 columns]\n"
     ]
    }
   ],
   "source": [
    "# iii. Use a uniform distribution to sample true values for θ0, θ1 and θ2.\n",
    "thetaValues = np.random.uniform(0, 1, 3)\n",
    "print(\"True values for theta = \" + str (thetaValues))\n",
    "\n",
    "# iv. Use your design matrix and the true parameters you obtained to create the y-values for the \n",
    "#     regression data. Finally add random noise to the y-values using a Normal distribution with mean\n",
    "#     0 and standard deviation of 8.\n",
    "\n",
    "yValues = np.empty(150)\n",
    "yValuesGD = np.empty(150) # Use for when we do Gradient Descent.\n",
    "yValues4 = np.empty(150) # Use when an extra theta parameter is added.\n",
    "yValuesReg = np.empty(150) # Use for when we do Gradient Descent with 4 parameters with Regularization.\n",
    "noiseValues = np.random.normal(0, 8, 150)\n",
    "for i in range(150):\n",
    "    yValues[i] = (thetaValues[0] + thetaValues[1] * data['x'][i] + thetaValues[2] * data['x^2'][i]) + noiseValues[i]\n",
    "data['y'] = yValues\n",
    "np.round(data,6)\n",
    "#data.sort_values(by=['x'], inplace=True, ascending=True)\n",
    "print(data)"
   ]
  },
  {
   "cell_type": "code",
   "execution_count": 924,
   "metadata": {},
   "outputs": [
    {
     "data": {
      "image/png": "[encoded data removed]",
      "text/plain": [
       "<Figure size 432x288 with 1 Axes>"
      ]
     },
     "metadata": {
      "needs_background": "light"
     },
     "output_type": "display_data"
    }
   ],
   "source": [
    "# vii. Plot the x-values and their corresponding y-values on a 2D-axis. Your data should look similar\n",
    "#      to the data shown in Figure 2a. Hint: pyplot.scatter\n",
    "\n",
    "plt.scatter(data['x'], data['y'])\n",
    "plt.title('Scatter Plot')\n",
    "plt.xlabel('x')\n",
    "plt.ylabel('y')\n",
    "plt.show()"
   ]
  },
  {
   "cell_type": "code",
   "execution_count": 925,
   "metadata": {},
   "outputs": [
    {
     "name": "stdout",
     "output_type": "stream",
     "text": [
      "Closed form solution values for theta = [0.33111247 0.48171422 0.95853481]\n",
      "Using the closed form solution, learnt parameter values differ from the true values by the following amount: \n",
      "[0.20733557905160693, 0.049519666075322766, 0.0038062256449657994]\n"
     ]
    }
   ],
   "source": [
    "# vi. Split the data into training, validation and test datasets.\n",
    "\n",
    "#Training \n",
    "trainDataX = data['x'][0:90]\n",
    "trainDataY = data['y'][0:90]\n",
    "trainData = pd.DataFrame({'x':trainDataX,'y':trainDataY}) \n",
    "#print(trainData)\n",
    "\n",
    "#Validation \n",
    "validationDataX = data['x'][89:119]\n",
    "validationDataY = data['y'][89:119]\n",
    "validationData = pd.DataFrame({'x':validationDataX,'y':validationDataY}) \n",
    "#print(validationData) \n",
    "\n",
    "#Testing\n",
    "testDataX = data['x'][119:150]\n",
    "testDataY = data['y'][119:150]\n",
    "testData = pd.DataFrame({'x':testDataX,'y':testDataY}) \n",
    "#print(testData) \n",
    "\n",
    "# (b) i. Use the Moore-Penrose pseudo-inverse to calculate the closed form solution for the model’s parameter values.\n",
    "#        X is the data.drop(columns = 'y') matrix.\n",
    "#        Break up the computation into smaller parts.\n",
    "\n",
    "X = data.drop(columns = 'y')\n",
    "multi_inverse = np.linalg.inv(np.dot(X.T,X)) # inverse(X.T dot X)\n",
    "inverse_dot_XT = np.dot(multi_inverse, X.T) # inverse(X.T dot X) dot X.T\n",
    "learntValues = np.dot(inverse_dot_XT,data['y']) # (inverse(X.T dot X) dot X.T) dot data['y']) \n",
    "print(\"Closed form solution values for theta = \" + str(learntValues)) #Moore-Penrose psuedo-inverse\n",
    "\n",
    "# ii. How close are the learned parameter values to the true parameter values we used to generate the data?\n",
    "\n",
    "diffValues = [abs(thetaValues[0] - learntValues[0]), abs(thetaValues[1] - learntValues[1]), abs(thetaValues[2] - learntValues[2])]\n",
    "print(\"Using the closed form solution, learnt parameter values differ from the true values by the following amount: \")\n",
    "print(diffValues)"
   ]
  },
  {
   "cell_type": "code",
   "execution_count": 926,
   "metadata": {},
   "outputs": [
    {
     "name": "stdout",
     "output_type": "stream",
     "text": [
      "Training Error of closed form solution = 0.010963600530830068\n",
      "Validation Error of closed form solution = 0.6753271235054805\n",
      "       1          x         x^2           y\n",
      "33   1.0 -21.388786  457.480187  423.916773\n",
      "137  1.0 -20.807568  432.954896  409.340658\n",
      "14   1.0 -20.027707  401.109061  399.714106\n",
      "63   1.0 -17.145194  293.957680  263.439179\n",
      "97   1.0 -17.025367  289.863130  264.577482\n",
      "..   ...        ...         ...         ...\n",
      "92   1.0  19.646860  385.999107  380.118944\n",
      "31   1.0  19.971753  398.870909  377.768928\n",
      "27   1.0  21.805039  475.459719  461.896557\n",
      "123  1.0  23.756700  564.380780  559.705681\n",
      "58   1.0  24.878168  618.923235  605.164845\n",
      "\n",
      "[150 rows x 4 columns]\n"
     ]
    },
    {
     "data": {
      "image/png": "[encoded data removed]",
      "text/plain": [
       "<Figure size 432x288 with 1 Axes>"
      ]
     },
     "metadata": {
      "needs_background": "light"
     },
     "output_type": "display_data"
    }
   ],
   "source": [
    "# iii. Compute the training error and validation error for the learned regression model.\n",
    "dataLearnt = pd.DataFrame(ones)\n",
    "dataLearnt.columns = ['1']\n",
    "dataLearnt['x'] = x\n",
    "dataLearnt['x^2'] = xSquare\n",
    "\n",
    "yValuesLearnt = np.empty(150)\n",
    "for i in range(150):\n",
    "    yValuesLearnt[i] = (learntValues[0] * dataLearnt['1'][i] + learntValues[1] * dataLearnt['x'][i] + learntValues[2] * dataLearnt['x^2'][i]) + noiseValues[i]\n",
    "dataLearnt['y'] = yValuesLearnt\n",
    "\n",
    "#Learnt Training \n",
    "learntTrainData = pd.DataFrame(ninety)\n",
    "learntTrainData.columns = ['1']\n",
    "learntTrainData['x'] = dataLearnt['x'][0:90]\n",
    "learntTrainData['y'] = dataLearnt['y'][0:90]\n",
    "dataLearnt.sort_values(by=['x'], inplace=True, ascending=True)\n",
    "#print(learntTrainData)\n",
    "\n",
    "#Learnt Validation \n",
    "learntValidationDataX = dataLearnt['x'][89:119]\n",
    "learntValidationDataY = dataLearnt['y'][89:119]\n",
    "learntValidationData = pd.DataFrame({'x':learntValidationDataX,'y':learntValidationDataY}) \n",
    "#print(learntValidationData) \n",
    "\n",
    "#Computing the training error of closed form solution:\n",
    "for i in range(90):\n",
    "    total = 0\n",
    "    E = (data['y'][i] - dataLearnt['y'][i])**2\n",
    "    total = total + E\n",
    "trainingErrorCF = 0.5 * total\n",
    "print(\"Training Error of closed form solution = \" + str(trainingErrorCF))\n",
    "\n",
    "#Computing the validation error of closed form solution:\n",
    "for i in range(30):\n",
    "    total = 0\n",
    "    E = (data['y'][89 + i] - dataLearnt['y'][89 + i])**2\n",
    "    total = total + E\n",
    "validationErrorCF = 0.5 * total\n",
    "print(\"Validation Error of closed form solution = \" + str(validationErrorCF))\n",
    "\n",
    "#Computing the validation error of closed form solution:\n",
    "for i in range(30):\n",
    "    total = 0\n",
    "    E = (data['y'][119 + i] - dataLearnt['y'][89 + i])**2\n",
    "    total = total + E\n",
    "TestErrorCF = 0.5 * total\n",
    "print(\"Test Error of closed form solution = \" + str(TestErrorCF))\n",
    "\n",
    "\n",
    "# iv.  Create a scatter plot of the individual data points along with the learned regression function,\n",
    "#      your plot should look like Figure 2b. Hint: pyplot.plot, this plotting function will give weird\n",
    "#      results if the x-values of the data are not sorted. x train[x train[:,1].argsort()] will give you the\n",
    "#      design matrix for your training data sorted by the second column (where the x values should be).\n",
    "\n",
    "print(dataLearnt)\n",
    "plt.scatter(dataLearnt['x'], dataLearnt['y'])\n",
    "plt.plot(dataLearnt['x'], dataLearnt['y'], color = 'red')\n",
    "plt.title('Line Plot')\n",
    "plt.xlabel('x')\n",
    "plt.ylabel('y')\n",
    "plt.show()"
   ]
  },
  {
   "cell_type": "code",
   "execution_count": 927,
   "metadata": {},
   "outputs": [
    {
     "name": "stdout",
     "output_type": "stream",
     "text": [
      "True values for theta = [0.12377689 0.43219456 0.96234104]\n",
      "Values using Gradient Descent = [0.57395195 0.98206977 0.12960574]\n",
      " \n",
      "Training Error for Gradient Descent  = 0.6841128013488512\n",
      "Validation Error for Gradient Descent  = 12775.321647054603\n"
     ]
    },
    {
     "data": {
      "image/png": "[encoded data removed]",
      "text/plain": [
       "<Figure size 432x288 with 1 Axes>"
      ]
     },
     "metadata": {
      "needs_background": "light"
     },
     "output_type": "display_data"
    },
    {
     "name": "stdout",
     "output_type": "stream",
     "text": [
      "       1          x         x^2           y        yGD\n",
      "0    1.0  13.096367  171.514826  157.506199  22.331291\n",
      "1    1.0   0.376955    0.142095   -8.624235  -8.085109\n",
      "2    1.0  18.468882  341.099601  341.150437  67.710515\n",
      "3    1.0   7.861336   61.800600   62.513669  15.823057\n",
      "4    1.0  -4.540340   20.614684   21.989622   2.776601\n",
      "..   ...        ...         ...         ...        ...\n",
      "145  1.0  10.242153  104.901700   96.195818  14.922551\n",
      "146  1.0  -8.278205   68.528683   64.770897   3.602839\n",
      "147  1.0  14.260589  203.364388  204.009517  42.952532\n",
      "148  1.0  -6.135725   37.647125   37.106668   2.832870\n",
      "149  1.0  17.133285  293.549453  293.363142  58.785494\n",
      "\n",
      "[150 rows x 5 columns]\n"
     ]
    }
   ],
   "source": [
    "# v. Repeat the above process using Gradient Descent to train your model. of closed form solution\n",
    "\n",
    "thetaGD = np.random.uniform(0, 1, 3)\n",
    "\n",
    "def predictedY(matrix,thetasGuess, index):\n",
    "    temp = thetasGuess[0]*matrix[0][index] + thetasGuess[1]*matrix[1][index] + thetasGuess[2]*matrix[2][index]\n",
    "    #print(str(temp) + 'predicted y ')\n",
    "    return temp\n",
    "\n",
    "def gradDescent(matrix, yValues):\n",
    "    thetasGuess = thetas = np.random.uniform(0,1,3)\n",
    "    learn = 0.0000000000001\n",
    "    tol = 0.000001\n",
    "    maxRuns = 0\n",
    "   # print(matrix[0,5])\n",
    "    for i in range(129):\n",
    "        oldGuess = thetasGuess\n",
    "        temp = (predictedY(matrix, thetasGuess, i) - yValues[i])\n",
    "    #    print(str(yValues[i]) + \" actual y\")\n",
    "        #print(temp)\n",
    "        temp = temp*learn\n",
    "        temp = temp* np.array([matrix[0][i],matrix[1][i],matrix[2][i]])\n",
    "        #print(temp)\n",
    "        thetasGuess = thetasGuess - temp\n",
    "    #    print(str(oldGuess) +' '+ 'old')\n",
    "   #     print(str(thetasGuess) +' '+ 'guess')\n",
    "        if (np.linalg.norm(thetasGuess - oldGuess) < tol) or (maxRuns == 1000):\n",
    "            break\n",
    "        else:\n",
    "            maxRuns = maxRuns + 1\n",
    "            if i == 129:\n",
    "                i = 0\n",
    " #   print(thetasGuess)        \n",
    "    return thetasGuess\n",
    "\n",
    "matrix = X.to_numpy()                                          # Convert dataFrame to numpy to make the function work \n",
    "y = data['y'].to_numpy()                                       # Convert dataFrame to numpy to make it work\n",
    "thetaGuessGD = gradDescent(matrix, y)                          # Find values for theta using Gradient Descent.\n",
    "print(\"True values for theta = \" + str(thetaValues))                                             \n",
    "print(\"Values using Gradient Descent = \" + str(thetaGuessGD)) \n",
    "\n",
    "# In addition, plot the training error of your regression model over time (observe or capture the training error every 20\n",
    "# parameter updates/time steps). Your plot should look like Figure 2c.\n",
    "\n",
    "trainingErrorArray = np.zeros(90) # Used to track the error of the model over time.\n",
    "for i in range(150):\n",
    "    yValuesGD[i] = (thetaGuessGD[0] + thetaGuessGD[1] * data['x'][i] + thetaGuessGD[2] * data['x^2'][i]) + noiseValues[i]\n",
    "data['yGD'] = yValuesGD\n",
    "\n",
    "print(\" \")\n",
    "\n",
    "#Computing the training error of Gradient of Descent and plot it on a graph:\n",
    "for i in range(90):\n",
    "    total = 0\n",
    "    E = (data['y'][i] - data['yGD'][i])**2\n",
    "    trainingErrorArray[i] = E\n",
    "    total = total + E\n",
    "trainingErrorGD = 0.5 * total\n",
    "print(\"Training Error for Gradient Descent  = \" + str(trainingErrorGD))\n",
    "\n",
    "#Computing the validation error of Gradient Descent:\n",
    "for i in range(30):\n",
    "    total = 0\n",
    "    E = (data['y'][89 + i] - data['yGD'][89 + i])**2\n",
    "    total = total + E\n",
    "validationErrorGD = 0.5 * total\n",
    "print(\"Validation Error for Gradient Descent  = \" + str(validationErrorGD))\n",
    "\n",
    "trainingErrorArray[::-1].sort()\n",
    "plt.plot(trainingErrorArray, color = 'orange')\n",
    "plt.title('Training Error over Time')\n",
    "plt.xlabel('Timestep')\n",
    "plt.ylabel('Training Error')\n",
    "plt.show()\n",
    "\n",
    "\n",
    "print(data)\n"
   ]
  },
  {
   "cell_type": "code",
   "execution_count": 928,
   "metadata": {},
   "outputs": [
    {
     "name": "stdout",
     "output_type": "stream",
     "text": [
      "True values for theta = [0.06711484 0.41312693 0.72031968 0.00217416]\n",
      "       1          x         x^2          x^3\n",
      "0    1.0  13.096367  171.514826  2246.221091\n",
      "1    1.0   0.376955    0.142095     0.053563\n",
      "2    1.0  18.468882  341.099601  6299.728271\n",
      "3    1.0   7.861336   61.800600   485.835261\n",
      "4    1.0  -4.540340   20.614684   -93.597668\n",
      "..   ...        ...         ...          ...\n",
      "145  1.0  10.242153  104.901700  1074.419270\n",
      "146  1.0  -8.278205   68.528683  -567.294502\n",
      "147  1.0  14.260589  203.364388  2900.095882\n",
      "148  1.0  -6.135725   37.647125  -230.992421\n",
      "149  1.0  17.133285  293.549453  5029.466436\n",
      "\n",
      "[150 rows x 4 columns]\n"
     ]
    }
   ],
   "source": [
    "# (c) i. Append a third feature to your design matrix for x^3\n",
    "thetaValues4 = np.random.uniform(0, 1, 4) # Will be used to genrate 4 true values for theta.\n",
    "print(\"True values for theta = \" + str(thetaValues4))\n",
    "X['x^3'] = xCube\n",
    "print(X) "
   ]
  },
  {
   "cell_type": "code",
   "execution_count": 929,
   "metadata": {},
   "outputs": [
    {
     "name": "stdout",
     "output_type": "stream",
     "text": [
      "True values for theta = [0.06711484 0.41312693 0.72031968 0.00217416]\n",
      "Values for theta using GD = [0.45937956 0.31883063 0.4309471  0.75690678]\n",
      " \n",
      "Training Error for Gradient Descent 3rd order  = 0.7223802666274189\n",
      "Validation Error for Gradient Descent 3rd order = 1955956.867264743\n"
     ]
    }
   ],
   "source": [
    "# ii. Train a model using Gradient Descent with the new design matrix. Repeat the process used above\n",
    "#     in Question 4b. Note, we are now using a third-order polynomial to fit data which was generated\n",
    "#     using a second-order polynomial. Our function is, thus, more complicated than is necessary to\n",
    "#     fit the data and as a result will overfit\n",
    "\n",
    "def predictedY4(matrix,thetasGuess, index):\n",
    "    temp = thetasGuess[0]*matrix[0][index] + thetasGuess[1]*matrix[1][index] + thetasGuess[2]*matrix[2][index] + thetasGuess[3]*matrix[3][index]\n",
    "    #print(str(temp) + 'predicted y ')\n",
    "    return temp\n",
    "\n",
    "def gradDescent4(matrix, yValues):\n",
    "    thetasGuess = thetas = np.random.uniform(0,1,4)\n",
    "    learn = 0.0000000000001\n",
    "    tol = 0.000001\n",
    "    maxRuns = 0\n",
    "   # print(matrix[0,5])\n",
    "    for i in range(129):\n",
    "        oldGuess = thetasGuess\n",
    "        temp = (predictedY(matrix, thetasGuess, i) - yValues[i])\n",
    "    #    print(str(yValues[i]) + \" actual y\")\n",
    "        #print(temp)\n",
    "        temp = temp*learn\n",
    "        temp = temp* np.array([matrix[0][i],matrix[1][i],matrix[2][i],matrix[3][i]])\n",
    "        #print(temp)\n",
    "        thetasGuess = thetasGuess - temp\n",
    "    #    print(str(oldGuess) +' '+ 'old')\n",
    "   #     print(str(thetasGuess) +' '+ 'guess')\n",
    "        if (np.linalg.norm(thetasGuess - oldGuess) < tol) or (maxRuns == 1000):\n",
    "            break\n",
    "        else:\n",
    "            maxRuns = maxRuns + 1\n",
    "            if i == 129:\n",
    "                i = 0\n",
    " #   print(thetasGuess)        \n",
    "    return thetasGuess                                       \n",
    "matrix4 = X.to_numpy()                                        #  # Convert dataFrame to numpy to make it work\n",
    "thetaGuess4 = gradDescent4(matrix4, y)                        # Find parameters for theta using Gradient Descent.\n",
    "print(\"True values for theta = \" + str(thetaValues4))                                             \n",
    "print(\"Values for theta using GD = \" + str(thetaGuess4))\n",
    "\n",
    "for i in range(150):\n",
    "    yValues4[i] = (thetaGuess4[0] + thetaGuess4[1] * X['x'][i] + thetaGuess4[2] * X['x^2'][i] + thetaGuess4[3] * X['x^3'][i]) + noiseValues[i]\n",
    "\n",
    "\n",
    "print(\" \")\n",
    "\n",
    "#Computing the training error of Gradient of Descent of third order polynomial:\n",
    "for i in range(90):\n",
    "    total = 0\n",
    "    E = (data['y'][i] - yValues4[i])**2\n",
    "    total = total + E\n",
    "trainingError4 = 0.5 * total\n",
    "print(\"Training Error for Gradient Descent 3rd order  = \" + str(trainingError4))\n",
    "\n",
    "#Computing the validation error of Gradient Descent of third order polynomial:\n",
    "for i in range(30):\n",
    "    total = 0\n",
    "    E = (data['y'][89 + i] - yValues4[89 + i])**2\n",
    "    total = total + E\n",
    "validationError4 = 0.5 * total\n",
    "print(\"Validation Error for Gradient Descent 3rd order = \" + str(validationError4))"
   ]
  },
  {
   "cell_type": "code",
   "execution_count": 930,
   "metadata": {},
   "outputs": [
    {
     "name": "stdout",
     "output_type": "stream",
     "text": [
      "True values for theta = [0.06711484 0.41312693 0.72031968 0.00217416]\n",
      "Values for theta using GDReg = [0.45937956 0.31883063 0.4309471  0.75690678]\n",
      " \n",
      "Training Error for Gradient Descent with regulariztion  = 0.30313302097493655\n",
      "Validation Error for Gradient Descent with regularization = 429553.1516064663\n"
     ]
    }
   ],
   "source": [
    "# iii. Repeat the training process one final time, this time use regularization when training the third order polynomial model.\n",
    "\n",
    "def predictedYReg(matrix,thetasGuess, index):\n",
    "    temp = thetasGuess[0]*matrix[0][index] + thetasGuess[1]*matrix[1][index] + thetasGuess[2]*matrix[2][index] + thetasGuess[3]*matrix[3][index]\n",
    "    #print(str(temp) + 'predicted y ')\n",
    "    return temp\n",
    "\n",
    "def gradDescentReg(matrix, yValues):\n",
    "    thetasGuess = thetas = np.random.uniform(0,1,4)\n",
    "    learn = 0.0000000000001\n",
    "    tol = 0.000001\n",
    "    maxRuns = 0\n",
    "   # print(matrix[0,5])\n",
    "    for i in range(129):\n",
    "        oldGuess = thetasGuess\n",
    "        temp = (predictedY(matrix, thetasGuess, i) - yValues[i])\n",
    "    #    print(str(yValues[i]) + \" actual y\")\n",
    "        #print(temp)\n",
    "        temp = temp*learn\n",
    "        if i == 0:\n",
    "            temp = temp* np.array([matrix[0][i],matrix[1][i],matrix[2][i],matrix[3][i]])\n",
    "        else:\n",
    "            temp = temp* (np.array([matrix[0][i],matrix[1][i],matrix[2][i],matrix[3][i]]) + 0.2 * np.array([matrix[0][i],matrix[1][i],matrix[2][i],matrix[3][i]]))\n",
    "\n",
    "        #print(temp)\n",
    "        thetasGuess = thetasGuess - temp\n",
    "    #    print(str(oldGuess) +' '+ 'old')\n",
    "   #     print(str(thetasGuess) +' '+ 'guess')\n",
    "        if (np.linalg.norm(thetasGuess - oldGuess) < tol) or (maxRuns == 1000):\n",
    "            break\n",
    "        else:\n",
    "            maxRuns = maxRuns + 1\n",
    "            if i == 129:\n",
    "                i = 0\n",
    " #   print(thetasGuess)        \n",
    "    return thetasGuess\n",
    "\n",
    "thetaGuess4Reg = gradDescent4(matrix4, y)                          # Find parameters for theta using Gradient Descent.\n",
    "print(\"True values for theta = \" + str(thetaValues4))                                             \n",
    "print(\"Values for theta using GDReg = \" + str(thetaGuess4))\n",
    "for i in range(150):\n",
    "    yValuesReg[i] = (thetaGuess4Reg[0] + thetaGuess4Reg[1] * X['x'][i] + thetaGuess4Reg[2] * X['x^2'][i] + thetaGuess4Reg[3] * X['x^3'][i]) + noiseValues[i]\n",
    "\n",
    "print(\" \")\n",
    "\n",
    "#Computing the training error of Gradient of Descent of third order polynomial:\n",
    "for i in range(90):\n",
    "    total = 0\n",
    "    E = (data['y'][i] - yValuesReg[i])**2\n",
    "    total = total + E\n",
    "trainingErrorReg = 0.5 * total\n",
    "print(\"Training Error for Gradient Descent with regulariztion  = \" + str(trainingErrorReg))\n",
    "\n",
    "#Computing the validation error of Gradient Descent of third order polynomial:\n",
    "for i in range(30):\n",
    "    total = 0\n",
    "    E = (data['y'][89 + i] - yValuesReg[89 + i])**2\n",
    "    total = total + E\n",
    "validationErrorReg = 0.5 * total\n",
    "print(\"Validation Error for Gradient Descent with regularization = \" + str(validationErrorReg))\n",
    "\n"
   ]
  },
  {
   "cell_type": "markdown",
   "metadata": {},
   "source": [
    "iv. Compare your results of the three gradient descent based models, which model achives the best\n",
    "final training error? Which model achieves the best validation\n",
    "error? Can you see any visible difference in the function approximation (fit of the data) by the\n",
    "models or in the learned parameter values? Did any of these models achieve a lower training or\n",
    "validation error than the closed form solution?\n",
    "\n",
    "\n",
    "In this case it is Gradient Descent with Regularization of a third order polynomial that achieves the best final error. \n",
    "In this case it is Gradient Descent of a second order polynomial that achieves the best validation error.\n",
    "The learned paramaters in all three models differ from the true values, but they are a good close approximation to the true values, given that the true values have a lot of generated noise.\n",
    "None of the models achieved a lower training or validation error than the closed form solution."
   ]
  },
  {
   "cell_type": "markdown",
   "metadata": {},
   "source": [
    "v. Compute the final test error for all four of your models. Which model obtains the lowest test\n",
    "error? Did the regularisation improve the test error performance of the third-order polynomial\n",
    "model? Which of the three gradient descent models achieved the lowest test error? Would you\n",
    "say it is better to use higher-order polynomials and regularize or use a model which only uses the\n",
    "necessary features to fit the data.\n",
    "\n"
   ]
  }
 ],
 "metadata": {
  "kernelspec": {
   "display_name": "Python 3",
   "language": "python",
   "name": "python3"
  },
  "language_info": {
   "codemirror_mode": {
    "name": "ipython",
    "version": 3
   },
   "file_extension": ".py",
   "mimetype": "text/x-python",
   "name": "python",
   "nbconvert_exporter": "python",
   "pygments_lexer": "ipython3",
   "version": "3.7.4"
  }
 },
 "nbformat": 4,
 "nbformat_minor": 2
}
