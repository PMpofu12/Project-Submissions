{
 "cells": [
  {
   "cell_type": "code",
   "execution_count": 96,
   "metadata": {},
   "outputs": [],
   "source": [
    "import math\n",
    "import numpy as np\n",
    "import random as rand\n",
    "import matplotlib.pyplot as plt "
   ]
  },
  {
   "cell_type": "code",
   "execution_count": 97,
   "metadata": {},
   "outputs": [
    {
     "name": "stdout",
     "output_type": "stream",
     "text": [
      "[(0.9724875305850189, 0.7039072669266015), (0.6226819360725703, 0.6488973576118233), (0.25376417770812754, 0.44287646328512165)]\n"
     ]
    },
    {
     "data": {
      "text/plain": [
       "<matplotlib.legend.Legend at 0x28e0e941548>"
      ]
     },
     "execution_count": 97,
     "metadata": {},
     "output_type": "execute_result"
    },
    {
     "data": {
      "image/png": "[encoded data removed]",
      "text/plain": [
       "<Figure size 432x288 with 1 Axes>"
      ]
     },
     "metadata": {
      "needs_background": "light"
     },
     "output_type": "display_data"
    }
   ],
   "source": [
    "# Question 2 (a) Define the function f(x) = x^2*sin(2πx)+0.7\n",
    "def f(x):\n",
    "    return math.pow(x,2)*math.sin(2*math.pi*x)+0.7\n",
    "\n",
    "# (b) Generate a uniform random point (x1, x2) = [0,1]^2. I decided to store points as tuples and store them in the array of the \n",
    "#     relevant class.\n",
    "# (c) Generate 100 points in this way. Plot them with different symbols for the two classes.\n",
    "classZero = []\n",
    "classOne = []\n",
    "randomPoints = []\n",
    "\n",
    "for i in range(3):\n",
    "    # Generate a point and add it to the randomPoints list. Then decide if that randomPoint is in class 0 or class 1.\n",
    "    randomPoint = (rand.random(), rand.random())  \n",
    "    randomPoints.append(randomPoint)\n",
    "    if (f(randomPoint[0]) > randomPoint[1]):\n",
    "        classZero.append(randomPoint)\n",
    "    else:\n",
    "        classOne.append(randomPoint)\n",
    "print(randomPoints)\n",
    "\n",
    "# Plot the different classes\n",
    "x,y = zip(*classZero)\n",
    "a,b = zip(*classOne) \n",
    "plt.scatter(x, y, label = 'Class 0')\n",
    "plt.scatter(a, b, label = 'Class 1')\n",
    "plt.legend()"
   ]
  },
  {
   "cell_type": "code",
   "execution_count": 103,
   "metadata": {},
   "outputs": [
    {
     "name": "stdout",
     "output_type": "stream",
     "text": [
      "[[0.697437   0.27290421]\n",
      " [0.56081939 0.25927231]]\n",
      "[0.697437   0.27290421]\n"
     ]
    },
    {
     "ename": "NameError",
     "evalue": "name 'shape' is not defined",
     "output_type": "error",
     "traceback": [
      "\u001b[1;31m---------------------------------------------------------------------------\u001b[0m",
      "\u001b[1;31mNameError\u001b[0m                                 Traceback (most recent call last)",
      "\u001b[1;32m<ipython-input-103-3c2db8fa9623>\u001b[0m in \u001b[0;36m<module>\u001b[1;34m\u001b[0m\n\u001b[0;32m     26\u001b[0m \u001b[1;31m#     different architectures. For any input vector, we need a vector of activations at every layer.\u001b[0m\u001b[1;33m\u001b[0m\u001b[1;33m\u001b[0m\u001b[1;33m\u001b[0m\u001b[0m\n\u001b[0;32m     27\u001b[0m \u001b[1;33m\u001b[0m\u001b[0m\n\u001b[1;32m---> 28\u001b[1;33m \u001b[0ma0\u001b[0m \u001b[1;33m=\u001b[0m \u001b[0mnp\u001b[0m\u001b[1;33m.\u001b[0m\u001b[0mdot\u001b[0m\u001b[1;33m(\u001b[0m\u001b[0mx1\u001b[0m\u001b[1;33m,\u001b[0m \u001b[0mweights\u001b[0m\u001b[1;33m,\u001b[0m\u001b[0mshape\u001b[0m\u001b[1;33m)\u001b[0m\u001b[1;33m\u001b[0m\u001b[1;33m\u001b[0m\u001b[0m\n\u001b[0m",
      "\u001b[1;31mNameError\u001b[0m: name 'shape' is not defined"
     ]
    }
   ],
   "source": [
    "# (a) Choose an architecture for the network. This data is 2D, in x1 and x2. We therefore need two input parameters for the model,\n",
    "#     and one output variable. It is a classification problem, so we can choose the final activation function to be a sigmoid. \n",
    "#     Let’s use three nodes on the hidden layer, and sigmoids for all activation functions.\n",
    "\n",
    "# Set up all of the inputs (paramaters) for the first layer.\n",
    "x1 = []\n",
    "for x1_element in randomPoints:\n",
    "    x1.append(x1_element[0])\n",
    "    \n",
    "x2 = []\n",
    "for x2_element in randomPoints:\n",
    "    x2.append(x2_element[1])\n",
    "\n",
    "# Set up the weights, as well as the activation function for the hidden layer. \n",
    "def sigmoid(x):\n",
    "    return 1/(1 + np.exp(-x))\n",
    "\n",
    "weights = np.random.rand(2,2)\n",
    "print(weights)\n",
    "print(weights[0])\n",
    "a0 = [] \n",
    "a1 = [] \n",
    "a3 = []\n",
    "\n",
    "# (b) Implement forward propagation for this network. Do this is a vectorised way, so we can generalise to\n",
    "#     different architectures. For any input vector, we need a vector of activations at every layer.\n",
    "\n",
    "a0 = np.dot(x1, weights,shape)"
   ]
  },
  {
   "cell_type": "code",
   "execution_count": null,
   "metadata": {},
   "outputs": [],
   "source": []
  },
  {
   "cell_type": "code",
   "execution_count": null,
   "metadata": {},
   "outputs": [],
   "source": []
  }
 ],
 "metadata": {
  "kernelspec": {
   "display_name": "Python 3",
   "language": "python",
   "name": "python3"
  },
  "language_info": {
   "codemirror_mode": {
    "name": "ipython",
    "version": 3
   },
   "file_extension": ".py",
   "mimetype": "text/x-python",
   "name": "python",
   "nbconvert_exporter": "python",
   "pygments_lexer": "ipython3",
   "version": "3.7.4"
  }
 },
 "nbformat": 4,
 "nbformat_minor": 2
}
